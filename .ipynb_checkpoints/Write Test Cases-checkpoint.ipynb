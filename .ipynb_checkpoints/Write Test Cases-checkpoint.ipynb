{
 "cells": [
  {
   "cell_type": "markdown",
   "id": "1864051d",
   "metadata": {},
   "source": [
    "### Imports"
   ]
  },
  {
   "cell_type": "code",
   "execution_count": 1,
   "id": "b5b02223",
   "metadata": {},
   "outputs": [],
   "source": [
    "import requests\n",
    "from writeHelpers import *\n",
    "from helpers import callApi"
   ]
  },
  {
   "cell_type": "markdown",
   "id": "b5ae31cd",
   "metadata": {},
   "source": [
    "### Constants"
   ]
  },
  {
   "cell_type": "code",
   "execution_count": 2,
   "id": "eeb110b6",
   "metadata": {},
   "outputs": [],
   "source": [
    "config = {\n",
    "    \"URL\" : \"http://localhost:8080\",\n",
    "    \"HEADERS\": {\n",
    "        \"api_key\":\"w7qR6kqLlARpnqgD45VeszVo3nW2\",\n",
    "        \"Accept\":\"application/json\"\n",
    "    },\n",
    "    \"org_id\" : 1    \n",
    "}"
   ]
  },
  {
   "cell_type": "code",
   "execution_count": 3,
   "id": "5473506e",
   "metadata": {},
   "outputs": [],
   "source": [
    "run_for_datamodels = [\n",
    "#     \"ACCOUNTS\",\n",
    "    \"INVOICES\", \n",
    "#     \"JOURNAL_ENTRIES\", \n",
    "#     \"BANK_ACCOUNTS\", \n",
    "#     \"BANK_TRANSACTIONS\", \n",
    "#     \"CONTACTS\",\n",
    "#     \"INVOICE_PAYMENTS\", \n",
    "#     \"BILL_PAYMENTS\", \n",
    "#     \"INVOICE_CREDIT_NOTES\", \n",
    "#     \"BILL_CREDIT_NOTES\", \n",
    "#     \"TAX_RATES\",\n",
    "#     \"EXPENSES\",  \n",
    "#     \"PURCHASE_ORDERS\", \n",
    "#     \"SALES_ORDERS\", \n",
    "#     \"ITEMS\" ,\n",
    "#     \"BILLS\"\n",
    "]\n",
    "run_for_integrations = [\n",
    "#     \"ZOHO_BOOKS\",\n",
    "#     \"XERO\",\n",
    "#     \"QUICKBOOKS_SANDBOX\",\n",
    "#     \"SAGE_CLOUD_ACCOUNTING\",\n",
    "#     \"MS_DYNAMICS_365\",\n",
    "    \"WAFEQ\"\n",
    "]"
   ]
  },
  {
   "cell_type": "markdown",
   "id": "90dcb725",
   "metadata": {},
   "source": [
    "### Get supported fields list"
   ]
  },
  {
   "cell_type": "code",
   "execution_count": 4,
   "id": "a83f8b91",
   "metadata": {},
   "outputs": [],
   "source": [
    "supported_fields = callApi(config[\"URL\"]+\"/get_supported_fields\", data={}, reqHeaders={}, reqParams={})\n",
    "supported_fields = supported_fields[\"data\"][\"create_supported_fields\"]"
   ]
  },
  {
   "cell_type": "markdown",
   "id": "8a614afc",
   "metadata": {},
   "source": [
    "### Run Test Cases"
   ]
  },
  {
   "cell_type": "code",
   "execution_count": 5,
   "id": "c140c49e",
   "metadata": {
    "scrolled": false
   },
   "outputs": [
    {
     "name": "stdout",
     "output_type": "stream",
     "text": [
      "running for WAFEQ: ACCOUNTS\n",
      "✅ Test passed for:  ACCOUNTS\n",
      "✅ Finished. 0 test cases failed!\n"
     ]
    }
   ],
   "source": [
    "runTestCase(run_for_datamodels,run_for_integrations,supported_fields,config)"
   ]
  }
 ],
 "metadata": {
  "kernelspec": {
   "display_name": "Python 3 (ipykernel)",
   "language": "python",
   "name": "python3"
  },
  "language_info": {
   "codemirror_mode": {
    "name": "ipython",
    "version": 3
   },
   "file_extension": ".py",
   "mimetype": "text/x-python",
   "name": "python",
   "nbconvert_exporter": "python",
   "pygments_lexer": "ipython3",
   "version": "3.11.5"
  }
 },
 "nbformat": 4,
 "nbformat_minor": 5
}
