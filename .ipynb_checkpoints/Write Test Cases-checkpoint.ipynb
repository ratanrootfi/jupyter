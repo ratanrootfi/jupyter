{
 "cells": [
  {
   "cell_type": "markdown",
   "id": "1864051d",
   "metadata": {},
   "source": [
    "### Imports"
   ]
  },
  {
   "cell_type": "code",
   "execution_count": 1,
   "id": "b5b02223",
   "metadata": {},
   "outputs": [],
   "source": [
    "import requests\n",
    "from writeHelpers import *\n",
    "from helpers import callApi\n",
    "from IPython.display import JSON,display\n",
    "pd.set_option('display.max_colwidth', None)"
   ]
  },
  {
   "cell_type": "markdown",
   "id": "b5ae31cd",
   "metadata": {},
   "source": [
    "### Constants"
   ]
  },
  {
   "cell_type": "code",
   "execution_count": 2,
   "id": "eeb110b6",
   "metadata": {},
   "outputs": [],
   "source": [
    "config = {\n",
    "#     \"URL\" : \"https://app.dev.rootfi.dev/api\",\n",
    "    \"URL\" : \"http://localhost:8080\",\n",
    "#     \"URL\":\"https://integrate.rootfi.dev/api/v2\",\n",
    "    \"HEADERS\": {\n",
    "        \"api_key\":\"w7qR6kqLlARpnqgD45VeszVo3nW2\",\n",
    "#          \"api_key\":\"53f8db7e-20e1-41dc-8900-1366b2fd7f2a\",\n",
    "        \"Accept\":\"application/json\"\n",
    "    },\n",
    "    \"org_id\" : 1    \n",
    "}"
   ]
  },
  {
   "cell_type": "code",
   "execution_count": 3,
   "id": "5473506e",
   "metadata": {},
   "outputs": [],
   "source": [
    "run_for_datamodels = [\n",
    "    \"ACCOUNTS\", \n",
    "    \"BANK_ACCOUNTS\", \n",
    "    \"BANK_TRANSACTIONS\",\n",
    "    \"CONTACTS\",\n",
    "    \"INVOICES\",\n",
    "    \"INVOICE_PAYMENTS\",\n",
    "    \"INVOICE_CREDIT_NOTES\", \n",
    "    \"BILLS\",\n",
    "    \"BILL_PAYMENTS\",\n",
    "    \"BILL_CREDIT_NOTES\",\n",
    "    \"ITEMS\" ,\n",
    "    \"EXPENSES\",\n",
    "    \"JOURNAL_ENTRIES\",   \n",
    "    \"PURCHASE_ORDERS\", \n",
    "    \"SALES_ORDERS\", \n",
    "    \"TAX_RATES\"\n",
    "]\n",
    "run_for_integrations = [\n",
    "    \"ZOHO_BOOKS\",\n",
    "#     \"XERO\",\n",
    "#     \"QUICKBOOKS_SANDBOX\",\n",
    "#     \"QUICKBOOKS\",\n",
    "#     \"SAGE_CLOUD_ACCOUNTING\",\n",
    "#     \"MS_DYNAMICS_365\",\n",
    "#     \"NETSUITE\",\n",
    "#     \"ODOO_ACCOUNTING\",\n",
    "#     \"WAFEQ\",\n",
    "#     \"WAVE\",\n",
    "#     \"MEKARI_JURNAL\"\n",
    "]"
   ]
  },
  {
   "cell_type": "markdown",
   "id": "90dcb725",
   "metadata": {},
   "source": [
    "### Get supported fields list"
   ]
  },
  {
   "cell_type": "code",
   "execution_count": 4,
   "id": "a83f8b91",
   "metadata": {},
   "outputs": [],
   "source": [
    "supported_fields = callApi(config[\"URL\"]+\"/get_supported_fields\", data={}, reqHeaders={}, reqParams={})\n",
    "supported_fields = supported_fields[\"data\"][\"create_supported_fields\"]"
   ]
  },
  {
   "cell_type": "markdown",
   "id": "8a614afc",
   "metadata": {},
   "source": [
    "### Run Test Cases"
   ]
  },
  {
   "cell_type": "code",
   "execution_count": 5,
   "id": "c140c49e",
   "metadata": {
    "scrolled": false
   },
   "outputs": [
    {
     "name": "stdout",
     "output_type": "stream",
     "text": [
      "✅ Finished. 1 test cases failed!\n"
     ]
    },
    {
     "data": {
      "text/html": [
       "<div>\n",
       "<style scoped>\n",
       "    .dataframe tbody tr th:only-of-type {\n",
       "        vertical-align: middle;\n",
       "    }\n",
       "\n",
       "    .dataframe tbody tr th {\n",
       "        vertical-align: top;\n",
       "    }\n",
       "\n",
       "    .dataframe thead th {\n",
       "        text-align: right;\n",
       "    }\n",
       "</style>\n",
       "<table border=\"1\" class=\"dataframe\">\n",
       "  <thead>\n",
       "    <tr style=\"text-align: right;\">\n",
       "      <th></th>\n",
       "      <th>integration</th>\n",
       "      <th>datamodel</th>\n",
       "      <th>status</th>\n",
       "      <th>message</th>\n",
       "    </tr>\n",
       "  </thead>\n",
       "  <tbody>\n",
       "    <tr>\n",
       "      <th>0</th>\n",
       "      <td>ZOHO_BOOKS</td>\n",
       "      <td>TAX_RATES</td>\n",
       "      <td>❌ Failed!</td>\n",
       "      <td>{'code': 57, 'message': 'You are not authorized to perform this operation'}</td>\n",
       "    </tr>\n",
       "  </tbody>\n",
       "</table>\n",
       "</div>"
      ],
      "text/plain": [
       "  integration  datamodel     status  \\\n",
       "0  ZOHO_BOOKS  TAX_RATES  ❌ Failed!   \n",
       "\n",
       "                                                                       message  \n",
       "0  {'code': 57, 'message': 'You are not authorized to perform this operation'}  "
      ]
     },
     "metadata": {},
     "output_type": "display_data"
    }
   ],
   "source": [
    "df = runTestCase(run_for_datamodels,run_for_integrations,supported_fields,config)\n",
    "display(df.head(50))"
   ]
  }
 ],
 "metadata": {
  "kernelspec": {
   "display_name": "Python 3 (ipykernel)",
   "language": "python",
   "name": "python3"
  },
  "language_info": {
   "codemirror_mode": {
    "name": "ipython",
    "version": 3
   },
   "file_extension": ".py",
   "mimetype": "text/x-python",
   "name": "python",
   "nbconvert_exporter": "python",
   "pygments_lexer": "ipython3",
   "version": "3.11.5"
  }
 },
 "nbformat": 4,
 "nbformat_minor": 5
}
