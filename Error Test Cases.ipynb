{
 "cells": [
  {
   "cell_type": "markdown",
   "id": "052d2caa",
   "metadata": {},
   "source": [
    "### Imports"
   ]
  },
  {
   "cell_type": "code",
   "execution_count": 1,
   "id": "67ea338a",
   "metadata": {},
   "outputs": [],
   "source": [
    "from helpers import *\n",
    "from copy import deepcopy\n",
    "import json"
   ]
  },
  {
   "cell_type": "markdown",
   "id": "fbbf5788",
   "metadata": {},
   "source": [
    "### Constants"
   ]
  },
  {
   "cell_type": "code",
   "execution_count": 2,
   "id": "cd72a1f5",
   "metadata": {},
   "outputs": [],
   "source": [
    "API_KEY  = \"w7qR6kqLlARpnqgD45VeszVo3nW2\"\n",
    "rootfi_company_id = 49\n",
    "ROOTFI_SYNCING_URL = \"http://localhost:8080\"\n",
    "sampleRequestBody = {\n",
    "    \"company_id\": rootfi_company_id,\n",
    "    \"data\": [\n",
    "        {\n",
    "            \"name\": \"Rootfi Test 5455\",\n",
    "            \"description\": \"Rootfi Test Desc\",\n",
    "            \"nominal_code\": \"T0123\",\n",
    "            \"currency_id\": \"INR\",\n",
    "            \"sub_category\": \"long_term_liability\"\n",
    "        }\n",
    "    ]\n",
    "}\n",
    "HEADERS = {\n",
    "    \"api_key\":API_KEY,\n",
    "    \"Accept\":\"application/json\"\n",
    "}"
   ]
  },
  {
   "cell_type": "code",
   "execution_count": 3,
   "id": "77b9489e",
   "metadata": {},
   "outputs": [],
   "source": [
    "write_url = ROOTFI_SYNCING_URL+\"/accounting/accounts\""
   ]
  },
  {
   "cell_type": "markdown",
   "id": "b4663c7f",
   "metadata": {},
   "source": [
    "### Token Expired"
   ]
  },
  {
   "cell_type": "code",
   "execution_count": 4,
   "id": "dacea940",
   "metadata": {},
   "outputs": [
    {
     "name": "stdout",
     "output_type": "stream",
     "text": [
      "✅ success\n"
     ]
    }
   ],
   "source": [
    "expected_status = 401\n",
    "expected_code = \"token-expired\"\n",
    "requestBody = deepcopy(sampleRequestBody)\n",
    "requestBody[\"data\"][0][\"throwError\"] = expected_code\n",
    "\n",
    "try:\n",
    "    data = callApi(write_url,data=requestBody, reqHeaders=HEADERS)\n",
    "except Exception as e:\n",
    "    # checks and compares api response and job data \n",
    "    print(checkErrorResponse(e,rootfi_company_id,expected_status,expected_code))"
   ]
  },
  {
   "cell_type": "markdown",
   "id": "a81e12a7",
   "metadata": {},
   "source": [
    "### Internal Error"
   ]
  },
  {
   "cell_type": "code",
   "execution_count": 8,
   "id": "1b9bbde5",
   "metadata": {},
   "outputs": [
    {
     "name": "stdout",
     "output_type": "stream",
     "text": [
      "✅ success\n"
     ]
    }
   ],
   "source": [
    "expected_status = 400\n",
    "expected_code = \"invalid-params\"\n",
    "requestBody = deepcopy(sampleRequestBody)\n",
    "requestBody[\"data\"][0][\"throwError\"] = 'internal-error'\n",
    "\n",
    "try:\n",
    "    data = callApi(write_url,data=requestBody, reqHeaders=HEADERS)\n",
    "except Exception as e:\n",
    "    # checks and compares api response and job data \n",
    "    print(checkErrorResponse(e,rootfi_company_id,expected_status,expected_code))"
   ]
  },
  {
   "cell_type": "markdown",
   "id": "0a02425b",
   "metadata": {},
   "source": [
    "### Integration throws Required Field Not Passed Error"
   ]
  },
  {
   "cell_type": "code",
   "execution_count": 6,
   "id": "020f987f",
   "metadata": {},
   "outputs": [
    {
     "name": "stdout",
     "output_type": "stream",
     "text": [
      "✅ success\n"
     ]
    }
   ],
   "source": [
    "expected_status = 400\n",
    "expected_code = \"invalid-params\"\n",
    "requestBody = deepcopy(sampleRequestBody)\n",
    "del requestBody['data'][0]['sub_category']\n",
    "\n",
    "try:\n",
    "    data = callApi(write_url,data=requestBody, reqHeaders=HEADERS)\n",
    "except Exception as e:\n",
    "    # checks and compares api response and job data \n",
    "    print(checkErrorResponse(e,rootfi_company_id,expected_status,expected_code))"
   ]
  },
  {
   "cell_type": "code",
   "execution_count": null,
   "id": "cadfb814",
   "metadata": {},
   "outputs": [],
   "source": []
  },
  {
   "cell_type": "code",
   "execution_count": null,
   "id": "d0237d33",
   "metadata": {},
   "outputs": [],
   "source": []
  }
 ],
 "metadata": {
  "kernelspec": {
   "display_name": "Python 3 (ipykernel)",
   "language": "python",
   "name": "python3"
  },
  "language_info": {
   "codemirror_mode": {
    "name": "ipython",
    "version": 3
   },
   "file_extension": ".py",
   "mimetype": "text/x-python",
   "name": "python",
   "nbconvert_exporter": "python",
   "pygments_lexer": "ipython3",
   "version": "3.11.5"
  }
 },
 "nbformat": 4,
 "nbformat_minor": 5
}
