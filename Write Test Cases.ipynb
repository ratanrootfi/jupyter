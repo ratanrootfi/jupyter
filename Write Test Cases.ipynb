{
 "cells": [
  {
   "cell_type": "markdown",
   "id": "1864051d",
   "metadata": {},
   "source": [
    "### Imports"
   ]
  },
  {
   "cell_type": "code",
   "execution_count": 1,
   "id": "b5b02223",
   "metadata": {},
   "outputs": [],
   "source": [
    "import requests\n",
    "from writeHelpers import *\n",
    "from helpers import callApi"
   ]
  },
  {
   "cell_type": "markdown",
   "id": "b5ae31cd",
   "metadata": {},
   "source": [
    "### Constants"
   ]
  },
  {
   "cell_type": "code",
   "execution_count": 2,
   "id": "eeb110b6",
   "metadata": {},
   "outputs": [],
   "source": [
    "config = {\n",
    "    \"URL\" : \"http://localhost:8080\",\n",
    "    \"HEADERS\": {\n",
    "        \"api_key\":\"w7qR6kqLlARpnqgD45VeszVo3nW2\",\n",
    "        \"Accept\":\"application/json\"\n",
    "    },\n",
    "    \"org_id\" : 1    \n",
    "}"
   ]
  },
  {
   "cell_type": "code",
   "execution_count": 3,
   "id": "5473506e",
   "metadata": {},
   "outputs": [],
   "source": [
    "run_for_datamodels = [\n",
    "#     \"ACCOUNTS\",\n",
    "#     \"INVOICES\",\n",
    "#     \"JOURNAL_ENTRIES\",\n",
    "#     \"BANK_ACCOUNTS\",\n",
    "#     \"BANK_TRANSACTIONS\",\n",
    "#     \"CONTACTS\",\n",
    "#     \"INVOICE_PAYMENTS\", \n",
    "#     \"BILL_PAYMENTS\",\n",
    "#     \"INVOICE_CREDIT_NOTES\",\n",
    "#     \"BILL_CREDIT_NOTES\",\n",
    "#     \"TAX_RATES\",\n",
    "#     \"EXPENSES\",\n",
    "#     \"PURCHASE_ORDERS\",\n",
    "#     \"SALES_ORDERS\",\n",
    "    \"ITEMS\" \n",
    "]\n",
    "run_for_integrations = [\n",
    "    \"ZOHO_BOOKS\"\n",
    "]"
   ]
  },
  {
   "cell_type": "markdown",
   "id": "90dcb725",
   "metadata": {},
   "source": [
    "### Get supported fields list"
   ]
  },
  {
   "cell_type": "code",
   "execution_count": 4,
   "id": "a83f8b91",
   "metadata": {},
   "outputs": [],
   "source": [
    "supported_fields = callApi(config[\"URL\"]+\"/get_supported_fields\", data={}, reqHeaders={}, reqParams={})\n",
    "supported_fields = supported_fields[\"data\"][\"create_supported_fields\"]"
   ]
  },
  {
   "cell_type": "markdown",
   "id": "8a614afc",
   "metadata": {},
   "source": [
    "### Run Test Cases"
   ]
  },
  {
   "cell_type": "code",
   "execution_count": 5,
   "id": "c140c49e",
   "metadata": {
    "scrolled": false
   },
   "outputs": [
    {
     "name": "stdout",
     "output_type": "stream",
     "text": [
      "running for ZOHO_BOOKS: ITEMS\n",
      "requestData {'name': 'Megan Wilkinson', 'bill_item': {'unit_price': 94, 'account_id': '3770712000000076060', 'description': 'Architecto excepturi sequi eligendi iusto.'}, 'code': '1780', 'invoice_item': {'unit_price': 62, 'account_id': '3770712000000010001', 'description': 'Et consectetur delectus quod nostrum quia nam.'}, 'type': 'INVENTORY', 'quantity_on_hand': 2} \n",
      "\n",
      "returnedData {'platform_id': '3770712000001567010', 'name': 'Megan Wilkinson', 'code': '1780', 'status': 'ACTIVE', 'updated_at': '2023-10-13T00:00:00.000Z', 'bill_item': {'account_id': '3770712000000076060', 'description': 'Architecto excepturi sequi eligendi iusto.', 'unit_price': 94}, 'invoice_item': {'account_id': '3770712000000010001', 'description': 'Et consectetur delectus quod nostrum quia nam.', 'unit_price': 62}, 'is_bill_item': True, 'is_invoice_item': True, 'type': 'INVENTORY', 'quantity_on_hand': 2, 'raw_data': {'item_id': '3770712000001567010', 'name': 'Megan Wilkinson', 'sku': '1780', 'brand': '', 'manufacturer': '', 'hsn_or_sac': '', 'image_name': '', 'image_type': '', 'status': 'active', 'source': 'api', 'is_linked_with_zohocrm': False, 'zcrm_product_id': '', 'crm_owner_id': '', 'unit': '', 'unit_id': '', 'description': 'Et consectetur delectus quod nostrum quia nam.', 'item_tax_preferences': [{'tax_specification': 'inter', 'tax_name_formatted': 'IGST5 [5%]', 'tax_type': 0, 'tax_name': 'IGST5', 'tax_percentage': 5, 'tax_id': '3770712000000106069'}, {'tax_specification': 'intra', 'tax_name_formatted': 'GST18 [18%]', 'tax_type': 2, 'tax_name': 'GST18', 'tax_percentage': 18, 'tax_id': '3770712000000106127'}], 'rate': 62, 'account_id': '3770712000000010001', 'account_name': 'Other Charges', 'tax_id': '', 'tax_name': '', 'tax_percentage': 0, 'tax_type': '', 'is_tax_expired': '', 'is_default_tax_applied': False, 'is_taxable': True, 'tax_exemption_id': '', 'tax_exemption_code': '', 'taxability_type': 'none', 'associated_template_id': '', 'documents': [], 'purchase_description': 'Architecto excepturi sequi eligendi iusto.', 'pricebook_rate': 62, 'pricing_scheme': 'unit', 'price_brackets': [], 'default_price_brackets': [{'start_quantity': 1, 'end_quantity': 1, 'pricebook_rate': 62}], 'sales_rate': 62, 'purchase_rate': 94, 'purchase_account_id': '3770712000000076060', 'purchase_account_name': 'Labor', 'inventory_account_id': '3770712000000034001', 'inventory_account_name': 'Inventory Asset', 'created_at': '2023-10-13', 'created_time': '2023-10-13T15:34:41+0530', 'offline_created_date_with_time': '', 'last_modified_time': '2023-10-13T15:34:41+0530', 'tags': [], 'item_type': 'inventory', 'product_type': 'goods', 'reorder_level': '', 'minimum_order_quantity': '', 'maximum_order_quantity': '', 'initial_stock': 2, 'initial_stock_rate': 94, 'vendor_id': '', 'vendor_name': '', 'stock_on_hand': 2, 'asset_value': '', 'available_stock': 2, 'committed_stock': 0, 'available_for_sale_stock': 2, 'custom_fields': [], 'custom_field_hash': {}, 'is_fulfillable': False, 'sales_channels': [], 'preferred_vendors': []}, 'data_hash': '07a1f3bbeb3ecd94b40394e0d2253a4c7f3b4038add9d79f81811aa30541091e'}\n",
      "✅ Test passed for:  ITEMS\n",
      "✅ Finished. 0 test cases failed!\n"
     ]
    }
   ],
   "source": [
    "runTestCase(run_for_datamodels,run_for_integrations,supported_fields,config)"
   ]
  }
 ],
 "metadata": {
  "kernelspec": {
   "display_name": "Python 3 (ipykernel)",
   "language": "python",
   "name": "python3"
  },
  "language_info": {
   "codemirror_mode": {
    "name": "ipython",
    "version": 3
   },
   "file_extension": ".py",
   "mimetype": "text/x-python",
   "name": "python",
   "nbconvert_exporter": "python",
   "pygments_lexer": "ipython3",
   "version": "3.11.5"
  }
 },
 "nbformat": 4,
 "nbformat_minor": 5
}
